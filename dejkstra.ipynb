{
 "cells": [
  {
   "cell_type": "markdown",
   "metadata": {},
   "source": [
    "### Задание. Прочитать из файла матрицу смежности и с помощью алгоритма Дейкстры определить кратчайшее расстояние от заданной вершины до всех остальных."
   ]
  },
  {
   "cell_type": "markdown",
   "metadata": {},
   "source": [
    "#### Чтобы визуализировать граф в виде кружочков и стрелочек, установим библиотеку pyvis"
   ]
  },
  {
   "cell_type": "markdown",
   "metadata": {
    "id": "Wggfn8l7nG72"
   },
   "source": [
    "### Выполнение:"
   ]
  },
  {
   "cell_type": "code",
   "execution_count": 4,
   "metadata": {},
   "outputs": [
    {
     "name": "stdout",
     "output_type": "stream",
     "text": [
      "Requirement already satisfied: pyvis in c:\\python\\mlvenv\\lib\\site-packages (0.3.2)\n",
      "Requirement already satisfied: ipython>=5.3.0 in c:\\python\\mlvenv\\lib\\site-packages (from pyvis) (8.21.0)\n",
      "Requirement already satisfied: jinja2>=2.9.6 in c:\\python\\mlvenv\\lib\\site-packages (from pyvis) (3.1.3)\n",
      "Requirement already satisfied: jsonpickle>=1.4.1 in c:\\python\\mlvenv\\lib\\site-packages (from pyvis) (3.0.3)\n",
      "Requirement already satisfied: networkx>=1.11 in c:\\python\\mlvenv\\lib\\site-packages (from pyvis) (3.2.1)\n",
      "Requirement already satisfied: decorator in c:\\python\\mlvenv\\lib\\site-packages (from ipython>=5.3.0->pyvis) (5.1.1)\n",
      "Requirement already satisfied: jedi>=0.16 in c:\\python\\mlvenv\\lib\\site-packages (from ipython>=5.3.0->pyvis) (0.19.1)\n",
      "Requirement already satisfied: matplotlib-inline in c:\\python\\mlvenv\\lib\\site-packages (from ipython>=5.3.0->pyvis) (0.1.6)\n",
      "Requirement already satisfied: prompt-toolkit<3.1.0,>=3.0.41 in c:\\python\\mlvenv\\lib\\site-packages (from ipython>=5.3.0->pyvis) (3.0.43)\n",
      "Requirement already satisfied: pygments>=2.4.0 in c:\\python\\mlvenv\\lib\\site-packages (from ipython>=5.3.0->pyvis) (2.17.2)\n",
      "Requirement already satisfied: stack-data in c:\\python\\mlvenv\\lib\\site-packages (from ipython>=5.3.0->pyvis) (0.6.3)\n",
      "Requirement already satisfied: traitlets>=5 in c:\\python\\mlvenv\\lib\\site-packages (from ipython>=5.3.0->pyvis) (5.14.1)\n",
      "Requirement already satisfied: colorama in c:\\python\\mlvenv\\lib\\site-packages (from ipython>=5.3.0->pyvis) (0.4.6)\n",
      "Requirement already satisfied: MarkupSafe>=2.0 in c:\\python\\mlvenv\\lib\\site-packages (from jinja2>=2.9.6->pyvis) (2.1.5)\n",
      "Requirement already satisfied: parso<0.9.0,>=0.8.3 in c:\\python\\mlvenv\\lib\\site-packages (from jedi>=0.16->ipython>=5.3.0->pyvis) (0.8.3)\n",
      "Requirement already satisfied: wcwidth in c:\\python\\mlvenv\\lib\\site-packages (from prompt-toolkit<3.1.0,>=3.0.41->ipython>=5.3.0->pyvis) (0.2.13)\n",
      "Requirement already satisfied: executing>=1.2.0 in c:\\python\\mlvenv\\lib\\site-packages (from stack-data->ipython>=5.3.0->pyvis) (2.0.1)\n",
      "Requirement already satisfied: asttokens>=2.1.0 in c:\\python\\mlvenv\\lib\\site-packages (from stack-data->ipython>=5.3.0->pyvis) (2.4.1)\n",
      "Requirement already satisfied: pure-eval in c:\\python\\mlvenv\\lib\\site-packages (from stack-data->ipython>=5.3.0->pyvis) (0.2.2)\n",
      "Requirement already satisfied: six>=1.12.0 in c:\\python\\mlvenv\\lib\\site-packages (from asttokens>=2.1.0->stack-data->ipython>=5.3.0->pyvis) (1.16.0)\n"
     ]
    }
   ],
   "source": [
    "!pip install pyvis"
   ]
  },
  {
   "cell_type": "code",
   "execution_count": 5,
   "metadata": {
    "id": "681a95mZnOSa"
   },
   "outputs": [
    {
     "name": "stdout",
     "output_type": "stream",
     "text": [
      "[[4, 9, 0, 2, 0, 6], [4, 6, 7, 7, 1, 1], [3, 2, 9, 0, 2, 1], [0, 0, 2, 5, 4, 9], [3, 6, 8, 4, 6, 4], [9, 4, 9, 2, 3, 0]]\n"
     ]
    }
   ],
   "source": [
    "# Считывание матрицы вида [[1,2], [4, 5]] \n",
    "with open(\"lr3_1.txt\", 'r') as file:\n",
    "    data = file.read()\n",
    "\n",
    "# Преобразование элементов в матрицу\n",
    "elements = data.strip('[]').split('],[')\n",
    "matrix = list(list(map(int, item.split(','))) for item in elements)\n",
    "\n",
    "print(matrix)\n",
    "\n",
    "# Этот вариант генерирует примитивную матрицу большого размера. Она пригодится для оценки сложности алгоритма\n",
    "# matrix = [[i * j for j in range(10000)] for i in range(10000)]"
   ]
  },
  {
   "cell_type": "code",
   "execution_count": 6,
   "metadata": {},
   "outputs": [
    {
     "name": "stdout",
     "output_type": "stream",
     "text": [
      "graph.html\n"
     ]
    }
   ],
   "source": [
    "from pyvis.network import Network\n",
    "\n",
    "graph = Network()\n",
    "\n",
    "# Добавление элементов матрицы в объект графа как вершины\n",
    "for i in range(len(matrix)):\n",
    "    graph.add_node(i, label=str(i), shape='circle', font={'size': 20})\n",
    "\n",
    "# Добавление стрелок в ориентированный граф\n",
    "for i in range(len(matrix)):\n",
    "    for j in range(len(matrix[i])):\n",
    "        if matrix[i][j] != 0:\n",
    "            graph.add_edge(i, j, label=str(matrix[i][j]), arrows='to')\n",
    "\n",
    "# Сохранение графа в .html и запуск \n",
    "graph.show_buttons(filter_=['nodes', 'edges', 'physics'])\n",
    "graph.write_html('graph.html')\n",
    "graph.show('graph.html', notebook=False)"
   ]
  },
  {
   "cell_type": "markdown",
   "metadata": {},
   "source": [
    "### Алгоритм Дейкстры в первом шаге берет вершину, от котрой мы хотим посчитать расстояния до остальных. На каждой итерации алгоритм считает веса до вершин, которые доступны из данной. Если вес меньше, чем на предыдущих итерациях, то вес обновляется. Алгоритм проходит по каждой вершине, до каких можно добраться из первоначальных. "
   ]
  },
  {
   "cell_type": "code",
   "execution_count": 7,
   "metadata": {},
   "outputs": [],
   "source": [
    "# Вычисляем вершины, до которых можно добраться из данной\n",
    "def get_link(v, ms):\n",
    "    for i, weight in enumerate(ms[v]):\n",
    "        if weight > 0:\n",
    "            yield i\n",
    "\n",
    "# Берем вершину с наименьшим весом. С нее начинаем следующую итерацию\n",
    "def arg_min(T, S):\n",
    "    amin = -1\n",
    "    mmin = float('inf')\n",
    "    for i, k in enumerate(T):\n",
    "        if k < mmin and not S[i]:\n",
    "            mmin = k\n",
    "            amin = i\n",
    "\n",
    "    return amin\n",
    "\n",
    "# Проход по вершинам и обновление весов\n",
    "def dijkstra(ms, v):\n",
    "    N = len(ms)\n",
    "    T = [float('inf')] * N\n",
    "    S = [False] * N\n",
    "    T[v] = 0\n",
    "    \n",
    "    while v != -1:\n",
    "        v = arg_min(T, S)\n",
    "        S[v] = True\n",
    "        for j in get_link(v, ms):\n",
    "            if not S[j]:\n",
    "                w = T[v] + ms[v][j]\n",
    "                if w < T[j]:\n",
    "                    T[j] = w\n",
    "    \n",
    "    return T"
   ]
  },
  {
   "cell_type": "code",
   "execution_count": 8,
   "metadata": {},
   "outputs": [
    {
     "name": "stdout",
     "output_type": "stream",
     "text": [
      "[6, 4, 4, 2, 3, 0] 0.0 s\n"
     ]
    }
   ],
   "source": [
    "# Подсчет времени выполнения для разного числа вершин\n",
    "import time\n",
    "\n",
    "start_time = time.time()\n",
    "\n",
    "res = dijkstra(matrix, 5)\n",
    "\n",
    "end_time = time.time()\n",
    "\n",
    "print(res, end_time - start_time, 's')"
   ]
  },
  {
   "cell_type": "markdown",
   "metadata": {},
   "source": [
    "### С помощью библиотеки tabulate изобразим результаты в виде таблицы"
   ]
  },
  {
   "cell_type": "code",
   "execution_count": 9,
   "metadata": {},
   "outputs": [
    {
     "name": "stdout",
     "output_type": "stream",
     "text": [
      "Requirement already satisfied: tabulate in c:\\python\\mlvenv\\lib\\site-packages (0.9.0)\n"
     ]
    }
   ],
   "source": [
    "!pip install tabulate"
   ]
  },
  {
   "cell_type": "code",
   "execution_count": 10,
   "metadata": {},
   "outputs": [
    {
     "name": "stdout",
     "output_type": "stream",
     "text": [
      "+--------------------+--------------------+--------------------+\n",
      "|   Количество узлов | Количество ребер   | Время выполнения   |\n",
      "+====================+====================+====================+\n",
      "|                100 | около 10.000       | 0.002 s            |\n",
      "+--------------------+--------------------+--------------------+\n",
      "|               1000 | около 1.000.000    | 0.147s             |\n",
      "+--------------------+--------------------+--------------------+\n",
      "|              10000 | около 100.000.000  | 15.062 s           |\n",
      "+--------------------+--------------------+--------------------+\n"
     ]
    }
   ],
   "source": [
    "from tabulate import tabulate\n",
    "\n",
    "data = [\n",
    "    [\"100\", \"около 10.000\", \"0.002 s\"],\n",
    "    [\"1000\", \"около 1.000.000\", \"0.147s\"],\n",
    "    [\"10000\", 'около 100.000.000', \"15.062 s\"]\n",
    "]\n",
    "\n",
    "headers = [\"Количество узлов\", \"Количество ребер\", \"Время выполнения\"]\n",
    "\n",
    "table = tabulate(data, headers=headers, tablefmt=\"grid\")\n",
    "print(table)"
   ]
  },
  {
   "cell_type": "markdown",
   "metadata": {
    "id": "diOb-K7LnO5a"
   },
   "source": [
    "### Вывод"
   ]
  },
  {
   "cell_type": "markdown",
   "metadata": {},
   "source": [
    "Алгоритм Дейкстры, который я реализовал в данной лабораторной работе,\n",
    "работает по сложности O(n^2), где n - количестов вершин. Так как для каждой из n вершин считается расстояние до остальных n-1 вершин\n",
    "Данная зависимость прослеживается по небольшой таблице, составленной по результатам эксперимента.\n",
    "При увеличении количества вершин в 10 раз, время работы увеличивается примерно в 100 раз."
   ]
  }
 ],
 "metadata": {
  "colab": {
   "provenance": [
    {
     "file_id": "1PB29AfCQqtCPpQJrN1jpaKF1cw_5iEo0",
     "timestamp": 1679127006477
    }
   ]
  },
  "kernelspec": {
   "display_name": "Python 3 (ipykernel)",
   "language": "python",
   "name": "python3"
  },
  "language_info": {
   "codemirror_mode": {
    "name": "ipython",
    "version": 3
   },
   "file_extension": ".py",
   "mimetype": "text/x-python",
   "name": "python",
   "nbconvert_exporter": "python",
   "pygments_lexer": "ipython3",
   "version": "3.12.2"
  }
 },
 "nbformat": 4,
 "nbformat_minor": 4
}
